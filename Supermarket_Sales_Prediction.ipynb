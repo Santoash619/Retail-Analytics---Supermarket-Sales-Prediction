{
 "cells": [
  {
   "cell_type": "markdown",
   "id": "e97ca0d9-3b97-4653-a152-200efb70ce86",
   "metadata": {
    "id": "e97ca0d9-3b97-4653-a152-200efb70ce86"
   },
   "source": [
    "# BigMart Sales Prediction\n",
    "\n",
    "![](https://www.analyticsvidhya.com/wp-content/uploads/2016/02/Comp-4.jpg)"
   ]
  },
  {
   "cell_type": "markdown",
   "id": "2c3e1ca7-7110-4c93-9831-522c389251cf",
   "metadata": {
    "id": "2c3e1ca7-7110-4c93-9831-522c389251cf"
   },
   "source": [
    "## Objective\n",
    "\n",
    "The data scientists at BigMart have collected sales data for 1559 products across 10 stores in different cities. Also, certain attributes of each product and store have been defined. The aim is to build a predictive model and find out the sales of each product at a particular store (each row of data).\n",
    "\n",
    "__So the idea is to find out the features (properties) of a product, and store which impacts the sales of a product.__"
   ]
  },
  {
   "cell_type": "markdown",
   "id": "696d9cd9-254c-45cb-9c72-da9663b7d90b",
   "metadata": {
    "id": "696d9cd9-254c-45cb-9c72-da9663b7d90b"
   },
   "source": [
    "## Dataset Details\n",
    "\n",
    "![](https://i.imgur.com/WlgNuFs.png)"
   ]
  },
  {
   "cell_type": "markdown",
   "id": "954f0d16-89bc-42d3-8591-26bd914bf2d3",
   "metadata": {
    "id": "954f0d16-89bc-42d3-8591-26bd914bf2d3"
   },
   "source": [
    "## Get the Dataset"
   ]
  },
  {
   "cell_type": "code",
   "execution_count": 1,
   "id": "cdf49ffe-c64f-4ca3-95b0-bd687e084fe4",
   "metadata": {
    "id": "cdf49ffe-c64f-4ca3-95b0-bd687e084fe4"
   },
   "outputs": [],
   "source": [
    "import pandas as pd\n",
    "import numpy as np\n",
    "import matplotlib.pyplot as plt\n",
    "import seaborn as sns\n",
    "import warnings\n",
    "from sklearn.model_selection import train_test_split\n",
    "from sklearn.preprocessing import StandardScaler\n",
    "from sklearn.linear_model import LinearRegression\n",
    "from sklearn.ensemble import RandomForestRegressor\n",
    "from sklearn.metrics import r2_score, mean_squared_error, mean_absolute_error\n",
    "\n",
    "\n",
    "warnings.filterwarnings(action=\"ignore\")\n"
   ]
  },
  {
   "cell_type": "code",
   "execution_count": 2,
   "id": "ae6687ff-8f87-43f2-a2d7-b83d3bd9fde3",
   "metadata": {
    "id": "ae6687ff-8f87-43f2-a2d7-b83d3bd9fde3",
    "outputId": "9aad8ad2-9e09-425f-edc6-3dc62726e92f"
   },
   "outputs": [
    {
     "data": {
      "text/html": [
       "<div>\n",
       "<style scoped>\n",
       "    .dataframe tbody tr th:only-of-type {\n",
       "        vertical-align: middle;\n",
       "    }\n",
       "\n",
       "    .dataframe tbody tr th {\n",
       "        vertical-align: top;\n",
       "    }\n",
       "\n",
       "    .dataframe thead th {\n",
       "        text-align: right;\n",
       "    }\n",
       "</style>\n",
       "<table border=\"1\" class=\"dataframe\">\n",
       "  <thead>\n",
       "    <tr style=\"text-align: right;\">\n",
       "      <th></th>\n",
       "      <th>Item_Identifier</th>\n",
       "      <th>Item_Weight</th>\n",
       "      <th>Item_Fat_Content</th>\n",
       "      <th>Item_Visibility</th>\n",
       "      <th>Item_Type</th>\n",
       "      <th>Item_MRP</th>\n",
       "      <th>Outlet_Identifier</th>\n",
       "      <th>Outlet_Establishment_Year</th>\n",
       "      <th>Outlet_Size</th>\n",
       "      <th>Outlet_Location_Type</th>\n",
       "      <th>Outlet_Type</th>\n",
       "      <th>Item_Outlet_Sales</th>\n",
       "    </tr>\n",
       "  </thead>\n",
       "  <tbody>\n",
       "    <tr>\n",
       "      <th>0</th>\n",
       "      <td>FDA15</td>\n",
       "      <td>9.30</td>\n",
       "      <td>Low Fat</td>\n",
       "      <td>0.016047</td>\n",
       "      <td>Dairy</td>\n",
       "      <td>249.8092</td>\n",
       "      <td>OUT049</td>\n",
       "      <td>1999</td>\n",
       "      <td>Medium</td>\n",
       "      <td>Tier 1</td>\n",
       "      <td>Supermarket Type1</td>\n",
       "      <td>3735.1380</td>\n",
       "    </tr>\n",
       "    <tr>\n",
       "      <th>1</th>\n",
       "      <td>DRC01</td>\n",
       "      <td>5.92</td>\n",
       "      <td>Regular</td>\n",
       "      <td>0.019278</td>\n",
       "      <td>Soft Drinks</td>\n",
       "      <td>48.2692</td>\n",
       "      <td>OUT018</td>\n",
       "      <td>2009</td>\n",
       "      <td>Medium</td>\n",
       "      <td>Tier 3</td>\n",
       "      <td>Supermarket Type2</td>\n",
       "      <td>443.4228</td>\n",
       "    </tr>\n",
       "    <tr>\n",
       "      <th>2</th>\n",
       "      <td>FDN15</td>\n",
       "      <td>17.50</td>\n",
       "      <td>Low Fat</td>\n",
       "      <td>0.016760</td>\n",
       "      <td>Meat</td>\n",
       "      <td>141.6180</td>\n",
       "      <td>OUT049</td>\n",
       "      <td>1999</td>\n",
       "      <td>Medium</td>\n",
       "      <td>Tier 1</td>\n",
       "      <td>Supermarket Type1</td>\n",
       "      <td>2097.2700</td>\n",
       "    </tr>\n",
       "    <tr>\n",
       "      <th>3</th>\n",
       "      <td>FDX07</td>\n",
       "      <td>19.20</td>\n",
       "      <td>Regular</td>\n",
       "      <td>0.000000</td>\n",
       "      <td>Fruits and Vegetables</td>\n",
       "      <td>182.0950</td>\n",
       "      <td>OUT010</td>\n",
       "      <td>1998</td>\n",
       "      <td>NaN</td>\n",
       "      <td>Tier 3</td>\n",
       "      <td>Grocery Store</td>\n",
       "      <td>732.3800</td>\n",
       "    </tr>\n",
       "    <tr>\n",
       "      <th>4</th>\n",
       "      <td>NCD19</td>\n",
       "      <td>8.93</td>\n",
       "      <td>Low Fat</td>\n",
       "      <td>0.000000</td>\n",
       "      <td>Household</td>\n",
       "      <td>53.8614</td>\n",
       "      <td>OUT013</td>\n",
       "      <td>1987</td>\n",
       "      <td>High</td>\n",
       "      <td>Tier 3</td>\n",
       "      <td>Supermarket Type1</td>\n",
       "      <td>994.7052</td>\n",
       "    </tr>\n",
       "  </tbody>\n",
       "</table>\n",
       "</div>"
      ],
      "text/plain": [
       "  Item_Identifier  Item_Weight Item_Fat_Content  Item_Visibility  \\\n",
       "0           FDA15         9.30          Low Fat         0.016047   \n",
       "1           DRC01         5.92          Regular         0.019278   \n",
       "2           FDN15        17.50          Low Fat         0.016760   \n",
       "3           FDX07        19.20          Regular         0.000000   \n",
       "4           NCD19         8.93          Low Fat         0.000000   \n",
       "\n",
       "               Item_Type  Item_MRP Outlet_Identifier  \\\n",
       "0                  Dairy  249.8092            OUT049   \n",
       "1            Soft Drinks   48.2692            OUT018   \n",
       "2                   Meat  141.6180            OUT049   \n",
       "3  Fruits and Vegetables  182.0950            OUT010   \n",
       "4              Household   53.8614            OUT013   \n",
       "\n",
       "   Outlet_Establishment_Year Outlet_Size Outlet_Location_Type  \\\n",
       "0                       1999      Medium               Tier 1   \n",
       "1                       2009      Medium               Tier 3   \n",
       "2                       1999      Medium               Tier 1   \n",
       "3                       1998         NaN               Tier 3   \n",
       "4                       1987        High               Tier 3   \n",
       "\n",
       "         Outlet_Type  Item_Outlet_Sales  \n",
       "0  Supermarket Type1          3735.1380  \n",
       "1  Supermarket Type2           443.4228  \n",
       "2  Supermarket Type1          2097.2700  \n",
       "3      Grocery Store           732.3800  \n",
       "4  Supermarket Type1           994.7052  "
      ]
     },
     "execution_count": 2,
     "metadata": {},
     "output_type": "execute_result"
    }
   ],
   "source": [
    "df=pd.read_csv('../Dataset/Supermarket_sales_prediction.csv')\n",
    "df.head()"
   ]
  },
  {
   "cell_type": "code",
   "execution_count": 3,
   "id": "b30b11ab",
   "metadata": {},
   "outputs": [],
   "source": [
    "import usefull_function as u "
   ]
  },
  {
   "cell_type": "code",
   "execution_count": 4,
   "id": "626a6fc2",
   "metadata": {},
   "outputs": [
    {
     "data": {
      "text/plain": [
       "['__builtins__',\n",
       " '__cached__',\n",
       " '__doc__',\n",
       " '__file__',\n",
       " '__loader__',\n",
       " '__name__',\n",
       " '__package__',\n",
       " '__spec__',\n",
       " 'basic_info',\n",
       " 'count_plot',\n",
       " 'create_piechart',\n",
       " 'missing_data',\n",
       " 'np',\n",
       " 'pd',\n",
       " 'plt',\n",
       " 'sns',\n",
       " 'violin_plot']"
      ]
     },
     "execution_count": 4,
     "metadata": {},
     "output_type": "execute_result"
    }
   ],
   "source": [
    "dir(u)"
   ]
  },
  {
   "cell_type": "markdown",
   "id": "d75cd146-c2a5-4596-81d7-fb4d05c3633a",
   "metadata": {
    "id": "d75cd146-c2a5-4596-81d7-fb4d05c3633a"
   },
   "source": [
    "# EDA for BigMart Sales Data."
   ]
  },
  {
   "cell_type": "code",
   "execution_count": 5,
   "id": "302eb682",
   "metadata": {},
   "outputs": [
    {
     "name": "stdout",
     "output_type": "stream",
     "text": [
      "Shape of the DataFrame: (8523, 12)\n",
      "\n",
      "Index(['Item_Identifier', 'Item_Weight', 'Item_Fat_Content', 'Item_Visibility',\n",
      "       'Item_Type', 'Item_MRP', 'Outlet_Identifier',\n",
      "       'Outlet_Establishment_Year', 'Outlet_Size', 'Outlet_Location_Type',\n",
      "       'Outlet_Type', 'Item_Outlet_Sales'],\n",
      "      dtype='object')\n",
      "\n",
      "<class 'pandas.core.frame.DataFrame'>\n",
      "RangeIndex: 8523 entries, 0 to 8522\n",
      "Data columns (total 12 columns):\n",
      " #   Column                     Non-Null Count  Dtype  \n",
      "---  ------                     --------------  -----  \n",
      " 0   Item_Identifier            8523 non-null   object \n",
      " 1   Item_Weight                7060 non-null   float64\n",
      " 2   Item_Fat_Content           8523 non-null   object \n",
      " 3   Item_Visibility            8523 non-null   float64\n",
      " 4   Item_Type                  8523 non-null   object \n",
      " 5   Item_MRP                   8523 non-null   float64\n",
      " 6   Outlet_Identifier          8523 non-null   object \n",
      " 7   Outlet_Establishment_Year  8523 non-null   int64  \n",
      " 8   Outlet_Size                6113 non-null   object \n",
      " 9   Outlet_Location_Type       8523 non-null   object \n",
      " 10  Outlet_Type                8523 non-null   object \n",
      " 11  Item_Outlet_Sales          8523 non-null   float64\n",
      "dtypes: float64(4), int64(1), object(7)\n",
      "memory usage: 799.2+ KB\n",
      "None\n"
     ]
    }
   ],
   "source": [
    "u.basic_info(df)"
   ]
  },
  {
   "cell_type": "code",
   "execution_count": 6,
   "id": "cd849e33",
   "metadata": {},
   "outputs": [
    {
     "data": {
      "text/html": [
       "<div>\n",
       "<style scoped>\n",
       "    .dataframe tbody tr th:only-of-type {\n",
       "        vertical-align: middle;\n",
       "    }\n",
       "\n",
       "    .dataframe tbody tr th {\n",
       "        vertical-align: top;\n",
       "    }\n",
       "\n",
       "    .dataframe thead th {\n",
       "        text-align: right;\n",
       "    }\n",
       "</style>\n",
       "<table border=\"1\" class=\"dataframe\">\n",
       "  <thead>\n",
       "    <tr style=\"text-align: right;\">\n",
       "      <th></th>\n",
       "      <th>Total</th>\n",
       "      <th>Percent</th>\n",
       "      <th>Data_Type</th>\n",
       "    </tr>\n",
       "  </thead>\n",
       "  <tbody>\n",
       "    <tr>\n",
       "      <th>Outlet_Size</th>\n",
       "      <td>2410</td>\n",
       "      <td>28.28</td>\n",
       "      <td>object</td>\n",
       "    </tr>\n",
       "    <tr>\n",
       "      <th>Item_Weight</th>\n",
       "      <td>1463</td>\n",
       "      <td>17.17</td>\n",
       "      <td>float64</td>\n",
       "    </tr>\n",
       "    <tr>\n",
       "      <th>Item_Identifier</th>\n",
       "      <td>0</td>\n",
       "      <td>0.00</td>\n",
       "      <td>object</td>\n",
       "    </tr>\n",
       "    <tr>\n",
       "      <th>Item_Fat_Content</th>\n",
       "      <td>0</td>\n",
       "      <td>0.00</td>\n",
       "      <td>object</td>\n",
       "    </tr>\n",
       "    <tr>\n",
       "      <th>Item_Visibility</th>\n",
       "      <td>0</td>\n",
       "      <td>0.00</td>\n",
       "      <td>float64</td>\n",
       "    </tr>\n",
       "    <tr>\n",
       "      <th>Item_Type</th>\n",
       "      <td>0</td>\n",
       "      <td>0.00</td>\n",
       "      <td>object</td>\n",
       "    </tr>\n",
       "    <tr>\n",
       "      <th>Item_MRP</th>\n",
       "      <td>0</td>\n",
       "      <td>0.00</td>\n",
       "      <td>float64</td>\n",
       "    </tr>\n",
       "    <tr>\n",
       "      <th>Outlet_Identifier</th>\n",
       "      <td>0</td>\n",
       "      <td>0.00</td>\n",
       "      <td>object</td>\n",
       "    </tr>\n",
       "    <tr>\n",
       "      <th>Outlet_Establishment_Year</th>\n",
       "      <td>0</td>\n",
       "      <td>0.00</td>\n",
       "      <td>int64</td>\n",
       "    </tr>\n",
       "    <tr>\n",
       "      <th>Outlet_Location_Type</th>\n",
       "      <td>0</td>\n",
       "      <td>0.00</td>\n",
       "      <td>object</td>\n",
       "    </tr>\n",
       "    <tr>\n",
       "      <th>Outlet_Type</th>\n",
       "      <td>0</td>\n",
       "      <td>0.00</td>\n",
       "      <td>object</td>\n",
       "    </tr>\n",
       "    <tr>\n",
       "      <th>Item_Outlet_Sales</th>\n",
       "      <td>0</td>\n",
       "      <td>0.00</td>\n",
       "      <td>float64</td>\n",
       "    </tr>\n",
       "  </tbody>\n",
       "</table>\n",
       "</div>"
      ],
      "text/plain": [
       "                           Total  Percent Data_Type\n",
       "Outlet_Size                 2410    28.28    object\n",
       "Item_Weight                 1463    17.17   float64\n",
       "Item_Identifier                0     0.00    object\n",
       "Item_Fat_Content               0     0.00    object\n",
       "Item_Visibility                0     0.00   float64\n",
       "Item_Type                      0     0.00    object\n",
       "Item_MRP                       0     0.00   float64\n",
       "Outlet_Identifier              0     0.00    object\n",
       "Outlet_Establishment_Year      0     0.00     int64\n",
       "Outlet_Location_Type           0     0.00    object\n",
       "Outlet_Type                    0     0.00    object\n",
       "Item_Outlet_Sales              0     0.00   float64"
      ]
     },
     "execution_count": 6,
     "metadata": {},
     "output_type": "execute_result"
    }
   ],
   "source": [
    "u.missing_data(df)"
   ]
  },
  {
   "cell_type": "code",
   "execution_count": 7,
   "id": "1d851999-8ece-4476-8e48-8b958d90c3a8",
   "metadata": {
    "id": "1d851999-8ece-4476-8e48-8b958d90c3a8",
    "outputId": "17ba910d-f054-45c2-b505-51f04b563c9f"
   },
   "outputs": [
    {
     "data": {
      "text/html": [
       "<style type=\"text/css\">\n",
       "#T_eaa63_row0_col0, #T_eaa63_row0_col1, #T_eaa63_row0_col2, #T_eaa63_row0_col3, #T_eaa63_row17_col4 {\n",
       "  background-color: #023858;\n",
       "  color: #f1f1f1;\n",
       "}\n",
       "#T_eaa63_row0_col4 {\n",
       "  background-color: #2c89bd;\n",
       "  color: #f1f1f1;\n",
       "}\n",
       "#T_eaa63_row1_col0, #T_eaa63_row1_col1, #T_eaa63_row2_col0, #T_eaa63_row2_col1, #T_eaa63_row2_col2, #T_eaa63_row2_col3, #T_eaa63_row3_col0, #T_eaa63_row3_col1, #T_eaa63_row3_col2, #T_eaa63_row3_col4, #T_eaa63_row4_col0, #T_eaa63_row4_col1, #T_eaa63_row4_col2, #T_eaa63_row4_col4, #T_eaa63_row5_col0, #T_eaa63_row5_col1, #T_eaa63_row5_col2, #T_eaa63_row6_col0, #T_eaa63_row6_col1, #T_eaa63_row6_col2, #T_eaa63_row7_col0, #T_eaa63_row7_col1, #T_eaa63_row7_col2, #T_eaa63_row8_col0, #T_eaa63_row8_col1, #T_eaa63_row8_col2, #T_eaa63_row9_col0, #T_eaa63_row9_col1, #T_eaa63_row10_col0, #T_eaa63_row10_col1, #T_eaa63_row11_col0, #T_eaa63_row11_col1, #T_eaa63_row12_col0, #T_eaa63_row12_col1, #T_eaa63_row13_col0, #T_eaa63_row13_col1, #T_eaa63_row14_col0, #T_eaa63_row14_col1, #T_eaa63_row15_col0, #T_eaa63_row15_col1, #T_eaa63_row16_col0, #T_eaa63_row16_col1, #T_eaa63_row17_col0, #T_eaa63_row17_col1 {\n",
       "  background-color: #fff7fb;\n",
       "  color: #000000;\n",
       "}\n",
       "#T_eaa63_row1_col2, #T_eaa63_row8_col4, #T_eaa63_row10_col2 {\n",
       "  background-color: #fdf5fa;\n",
       "  color: #000000;\n",
       "}\n",
       "#T_eaa63_row1_col3, #T_eaa63_row3_col3, #T_eaa63_row4_col3, #T_eaa63_row5_col3, #T_eaa63_row6_col3, #T_eaa63_row7_col3, #T_eaa63_row8_col3, #T_eaa63_row9_col3, #T_eaa63_row10_col3 {\n",
       "  background-color: #d4d4e8;\n",
       "  color: #000000;\n",
       "}\n",
       "#T_eaa63_row1_col4 {\n",
       "  background-color: #e3e0ee;\n",
       "  color: #000000;\n",
       "}\n",
       "#T_eaa63_row2_col4 {\n",
       "  background-color: #ece7f2;\n",
       "  color: #000000;\n",
       "}\n",
       "#T_eaa63_row5_col4, #T_eaa63_row9_col2 {\n",
       "  background-color: #fef6fb;\n",
       "  color: #000000;\n",
       "}\n",
       "#T_eaa63_row6_col4, #T_eaa63_row7_col4 {\n",
       "  background-color: #fef6fa;\n",
       "  color: #000000;\n",
       "}\n",
       "#T_eaa63_row9_col4 {\n",
       "  background-color: #f6eff7;\n",
       "  color: #000000;\n",
       "}\n",
       "#T_eaa63_row10_col4 {\n",
       "  background-color: #eae6f1;\n",
       "  color: #000000;\n",
       "}\n",
       "#T_eaa63_row11_col2, #T_eaa63_row12_col2, #T_eaa63_row13_col2, #T_eaa63_row14_col2, #T_eaa63_row15_col2, #T_eaa63_row16_col2 {\n",
       "  background-color: #fbf4f9;\n",
       "  color: #000000;\n",
       "}\n",
       "#T_eaa63_row11_col3, #T_eaa63_row12_col3, #T_eaa63_row13_col3, #T_eaa63_row14_col3, #T_eaa63_row15_col3, #T_eaa63_row16_col3, #T_eaa63_row17_col3 {\n",
       "  background-color: #d3d4e7;\n",
       "  color: #000000;\n",
       "}\n",
       "#T_eaa63_row11_col4 {\n",
       "  background-color: #b0c2de;\n",
       "  color: #000000;\n",
       "}\n",
       "#T_eaa63_row12_col4 {\n",
       "  background-color: #94b6d7;\n",
       "  color: #000000;\n",
       "}\n",
       "#T_eaa63_row13_col4 {\n",
       "  background-color: #8bb2d4;\n",
       "  color: #000000;\n",
       "}\n",
       "#T_eaa63_row14_col4 {\n",
       "  background-color: #83afd3;\n",
       "  color: #f1f1f1;\n",
       "}\n",
       "#T_eaa63_row15_col4 {\n",
       "  background-color: #71a8ce;\n",
       "  color: #f1f1f1;\n",
       "}\n",
       "#T_eaa63_row16_col4 {\n",
       "  background-color: #569dc8;\n",
       "  color: #f1f1f1;\n",
       "}\n",
       "#T_eaa63_row17_col2 {\n",
       "  background-color: #fbf3f9;\n",
       "  color: #000000;\n",
       "}\n",
       "</style>\n",
       "<table id=\"T_eaa63\">\n",
       "  <thead>\n",
       "    <tr>\n",
       "      <th class=\"blank level0\" >&nbsp;</th>\n",
       "      <th id=\"T_eaa63_level0_col0\" class=\"col_heading level0 col0\" >Item_Weight</th>\n",
       "      <th id=\"T_eaa63_level0_col1\" class=\"col_heading level0 col1\" >Item_Visibility</th>\n",
       "      <th id=\"T_eaa63_level0_col2\" class=\"col_heading level0 col2\" >Item_MRP</th>\n",
       "      <th id=\"T_eaa63_level0_col3\" class=\"col_heading level0 col3\" >Outlet_Establishment_Year</th>\n",
       "      <th id=\"T_eaa63_level0_col4\" class=\"col_heading level0 col4\" >Item_Outlet_Sales</th>\n",
       "    </tr>\n",
       "  </thead>\n",
       "  <tbody>\n",
       "    <tr>\n",
       "      <th id=\"T_eaa63_level0_row0\" class=\"row_heading level0 row0\" >count</th>\n",
       "      <td id=\"T_eaa63_row0_col0\" class=\"data row0 col0\" >7060.000000</td>\n",
       "      <td id=\"T_eaa63_row0_col1\" class=\"data row0 col1\" >8523.000000</td>\n",
       "      <td id=\"T_eaa63_row0_col2\" class=\"data row0 col2\" >8523.000000</td>\n",
       "      <td id=\"T_eaa63_row0_col3\" class=\"data row0 col3\" >8523.000000</td>\n",
       "      <td id=\"T_eaa63_row0_col4\" class=\"data row0 col4\" >8523.000000</td>\n",
       "    </tr>\n",
       "    <tr>\n",
       "      <th id=\"T_eaa63_level0_row1\" class=\"row_heading level0 row1\" >mean</th>\n",
       "      <td id=\"T_eaa63_row1_col0\" class=\"data row1 col0\" >12.857645</td>\n",
       "      <td id=\"T_eaa63_row1_col1\" class=\"data row1 col1\" >0.066132</td>\n",
       "      <td id=\"T_eaa63_row1_col2\" class=\"data row1 col2\" >140.992782</td>\n",
       "      <td id=\"T_eaa63_row1_col3\" class=\"data row1 col3\" >1997.831867</td>\n",
       "      <td id=\"T_eaa63_row1_col4\" class=\"data row1 col4\" >2181.288914</td>\n",
       "    </tr>\n",
       "    <tr>\n",
       "      <th id=\"T_eaa63_level0_row2\" class=\"row_heading level0 row2\" >std</th>\n",
       "      <td id=\"T_eaa63_row2_col0\" class=\"data row2 col0\" >4.643456</td>\n",
       "      <td id=\"T_eaa63_row2_col1\" class=\"data row2 col1\" >0.051598</td>\n",
       "      <td id=\"T_eaa63_row2_col2\" class=\"data row2 col2\" >62.275067</td>\n",
       "      <td id=\"T_eaa63_row2_col3\" class=\"data row2 col3\" >8.371760</td>\n",
       "      <td id=\"T_eaa63_row2_col4\" class=\"data row2 col4\" >1706.499616</td>\n",
       "    </tr>\n",
       "    <tr>\n",
       "      <th id=\"T_eaa63_level0_row3\" class=\"row_heading level0 row3\" >min</th>\n",
       "      <td id=\"T_eaa63_row3_col0\" class=\"data row3 col0\" >4.555000</td>\n",
       "      <td id=\"T_eaa63_row3_col1\" class=\"data row3 col1\" >0.000000</td>\n",
       "      <td id=\"T_eaa63_row3_col2\" class=\"data row3 col2\" >31.290000</td>\n",
       "      <td id=\"T_eaa63_row3_col3\" class=\"data row3 col3\" >1985.000000</td>\n",
       "      <td id=\"T_eaa63_row3_col4\" class=\"data row3 col4\" >33.290000</td>\n",
       "    </tr>\n",
       "    <tr>\n",
       "      <th id=\"T_eaa63_level0_row4\" class=\"row_heading level0 row4\" >1%</th>\n",
       "      <td id=\"T_eaa63_row4_col0\" class=\"data row4 col0\" >5.150000</td>\n",
       "      <td id=\"T_eaa63_row4_col1\" class=\"data row4 col1\" >0.000000</td>\n",
       "      <td id=\"T_eaa63_row4_col2\" class=\"data row4 col2\" >35.062752</td>\n",
       "      <td id=\"T_eaa63_row4_col3\" class=\"data row4 col3\" >1985.000000</td>\n",
       "      <td id=\"T_eaa63_row4_col4\" class=\"data row4 col4\" >83.890800</td>\n",
       "    </tr>\n",
       "    <tr>\n",
       "      <th id=\"T_eaa63_level0_row5\" class=\"row_heading level0 row5\" >2%</th>\n",
       "      <td id=\"T_eaa63_row5_col0\" class=\"data row5 col0\" >5.440000</td>\n",
       "      <td id=\"T_eaa63_row5_col1\" class=\"data row5 col1\" >0.000000</td>\n",
       "      <td id=\"T_eaa63_row5_col2\" class=\"data row5 col2\" >37.219000</td>\n",
       "      <td id=\"T_eaa63_row5_col3\" class=\"data row5 col3\" >1985.000000</td>\n",
       "      <td id=\"T_eaa63_row5_col4\" class=\"data row5 col4\" >115.476352</td>\n",
       "    </tr>\n",
       "    <tr>\n",
       "      <th id=\"T_eaa63_level0_row6\" class=\"row_heading level0 row6\" >3%</th>\n",
       "      <td id=\"T_eaa63_row6_col0\" class=\"data row6 col0\" >5.655000</td>\n",
       "      <td id=\"T_eaa63_row6_col1\" class=\"data row6 col1\" >0.000000</td>\n",
       "      <td id=\"T_eaa63_row6_col2\" class=\"data row6 col2\" >38.750600</td>\n",
       "      <td id=\"T_eaa63_row6_col3\" class=\"data row6 col3\" >1985.000000</td>\n",
       "      <td id=\"T_eaa63_row6_col4\" class=\"data row6 col4\" >145.583828</td>\n",
       "    </tr>\n",
       "    <tr>\n",
       "      <th id=\"T_eaa63_level0_row7\" class=\"row_heading level0 row7\" >4%</th>\n",
       "      <td id=\"T_eaa63_row7_col0\" class=\"data row7 col0\" >5.820000</td>\n",
       "      <td id=\"T_eaa63_row7_col1\" class=\"data row7 col1\" >0.000000</td>\n",
       "      <td id=\"T_eaa63_row7_col2\" class=\"data row7 col2\" >40.466096</td>\n",
       "      <td id=\"T_eaa63_row7_col3\" class=\"data row7 col3\" >1985.000000</td>\n",
       "      <td id=\"T_eaa63_row7_col4\" class=\"data row7 col4\" >169.699104</td>\n",
       "    </tr>\n",
       "    <tr>\n",
       "      <th id=\"T_eaa63_level0_row8\" class=\"row_heading level0 row8\" >5%</th>\n",
       "      <td id=\"T_eaa63_row8_col0\" class=\"data row8 col0\" >5.945000</td>\n",
       "      <td id=\"T_eaa63_row8_col1\" class=\"data row8 col1\" >0.000000</td>\n",
       "      <td id=\"T_eaa63_row8_col2\" class=\"data row8 col2\" >42.516700</td>\n",
       "      <td id=\"T_eaa63_row8_col3\" class=\"data row8 col3\" >1985.000000</td>\n",
       "      <td id=\"T_eaa63_row8_col4\" class=\"data row8 col4\" >188.421400</td>\n",
       "    </tr>\n",
       "    <tr>\n",
       "      <th id=\"T_eaa63_level0_row9\" class=\"row_heading level0 row9\" >25%</th>\n",
       "      <td id=\"T_eaa63_row9_col0\" class=\"data row9 col0\" >8.773750</td>\n",
       "      <td id=\"T_eaa63_row9_col1\" class=\"data row9 col1\" >0.026989</td>\n",
       "      <td id=\"T_eaa63_row9_col2\" class=\"data row9 col2\" >93.826500</td>\n",
       "      <td id=\"T_eaa63_row9_col3\" class=\"data row9 col3\" >1987.000000</td>\n",
       "      <td id=\"T_eaa63_row9_col4\" class=\"data row9 col4\" >834.247400</td>\n",
       "    </tr>\n",
       "    <tr>\n",
       "      <th id=\"T_eaa63_level0_row10\" class=\"row_heading level0 row10\" >50%</th>\n",
       "      <td id=\"T_eaa63_row10_col0\" class=\"data row10 col0\" >12.600000</td>\n",
       "      <td id=\"T_eaa63_row10_col1\" class=\"data row10 col1\" >0.053931</td>\n",
       "      <td id=\"T_eaa63_row10_col2\" class=\"data row10 col2\" >143.012800</td>\n",
       "      <td id=\"T_eaa63_row10_col3\" class=\"data row10 col3\" >1999.000000</td>\n",
       "      <td id=\"T_eaa63_row10_col4\" class=\"data row10 col4\" >1794.331000</td>\n",
       "    </tr>\n",
       "    <tr>\n",
       "      <th id=\"T_eaa63_level0_row11\" class=\"row_heading level0 row11\" >90%</th>\n",
       "      <td id=\"T_eaa63_row11_col0\" class=\"data row11 col0\" >19.350000</td>\n",
       "      <td id=\"T_eaa63_row11_col1\" class=\"data row11 col1\" >0.139514</td>\n",
       "      <td id=\"T_eaa63_row11_col2\" class=\"data row11 col2\" >231.200480</td>\n",
       "      <td id=\"T_eaa63_row11_col3\" class=\"data row11 col3\" >2009.000000</td>\n",
       "      <td id=\"T_eaa63_row11_col4\" class=\"data row11 col4\" >4570.051200</td>\n",
       "    </tr>\n",
       "    <tr>\n",
       "      <th id=\"T_eaa63_level0_row12\" class=\"row_heading level0 row12\" >95%</th>\n",
       "      <td id=\"T_eaa63_row12_col0\" class=\"data row12 col0\" >20.250000</td>\n",
       "      <td id=\"T_eaa63_row12_col1\" class=\"data row12 col1\" >0.163780</td>\n",
       "      <td id=\"T_eaa63_row12_col2\" class=\"data row12 col2\" >250.769240</td>\n",
       "      <td id=\"T_eaa63_row12_col3\" class=\"data row12 col3\" >2009.000000</td>\n",
       "      <td id=\"T_eaa63_row12_col4\" class=\"data row12 col4\" >5522.811000</td>\n",
       "    </tr>\n",
       "    <tr>\n",
       "      <th id=\"T_eaa63_level0_row13\" class=\"row_heading level0 row13\" >96%</th>\n",
       "      <td id=\"T_eaa63_row13_col0\" class=\"data row13 col0\" >20.350000</td>\n",
       "      <td id=\"T_eaa63_row13_col1\" class=\"data row13 col1\" >0.171288</td>\n",
       "      <td id=\"T_eaa63_row13_col2\" class=\"data row13 col2\" >254.119792</td>\n",
       "      <td id=\"T_eaa63_row13_col3\" class=\"data row13 col3\" >2009.000000</td>\n",
       "      <td id=\"T_eaa63_row13_col4\" class=\"data row13 col4\" >5816.428800</td>\n",
       "    </tr>\n",
       "    <tr>\n",
       "      <th id=\"T_eaa63_level0_row14\" class=\"row_heading level0 row14\" >97%</th>\n",
       "      <td id=\"T_eaa63_row14_col0\" class=\"data row14 col0\" >20.600000</td>\n",
       "      <td id=\"T_eaa63_row14_col1\" class=\"data row14 col1\" >0.176373</td>\n",
       "      <td id=\"T_eaa63_row14_col2\" class=\"data row14 col2\" >257.143744</td>\n",
       "      <td id=\"T_eaa63_row14_col3\" class=\"data row14 col3\" >2009.000000</td>\n",
       "      <td id=\"T_eaa63_row14_col4\" class=\"data row14 col4\" >6094.307088</td>\n",
       "    </tr>\n",
       "    <tr>\n",
       "      <th id=\"T_eaa63_level0_row15\" class=\"row_heading level0 row15\" >98%</th>\n",
       "      <td id=\"T_eaa63_row15_col0\" class=\"data row15 col0\" >20.700000</td>\n",
       "      <td id=\"T_eaa63_row15_col1\" class=\"data row15 col1\" >0.187488</td>\n",
       "      <td id=\"T_eaa63_row15_col2\" class=\"data row15 col2\" >260.445496</td>\n",
       "      <td id=\"T_eaa63_row15_col3\" class=\"data row15 col3\" >2009.000000</td>\n",
       "      <td id=\"T_eaa63_row15_col4\" class=\"data row15 col4\" >6623.831144</td>\n",
       "    </tr>\n",
       "    <tr>\n",
       "      <th id=\"T_eaa63_level0_row16\" class=\"row_heading level0 row16\" >99%</th>\n",
       "      <td id=\"T_eaa63_row16_col0\" class=\"data row16 col0\" >20.850000</td>\n",
       "      <td id=\"T_eaa63_row16_col1\" class=\"data row16 col1\" >0.226249</td>\n",
       "      <td id=\"T_eaa63_row16_col2\" class=\"data row16 col2\" >263.022600</td>\n",
       "      <td id=\"T_eaa63_row16_col3\" class=\"data row16 col3\" >2009.000000</td>\n",
       "      <td id=\"T_eaa63_row16_col4\" class=\"data row16 col4\" >7366.011720</td>\n",
       "    </tr>\n",
       "    <tr>\n",
       "      <th id=\"T_eaa63_level0_row17\" class=\"row_heading level0 row17\" >max</th>\n",
       "      <td id=\"T_eaa63_row17_col0\" class=\"data row17 col0\" >21.350000</td>\n",
       "      <td id=\"T_eaa63_row17_col1\" class=\"data row17 col1\" >0.328391</td>\n",
       "      <td id=\"T_eaa63_row17_col2\" class=\"data row17 col2\" >266.888400</td>\n",
       "      <td id=\"T_eaa63_row17_col3\" class=\"data row17 col3\" >2009.000000</td>\n",
       "      <td id=\"T_eaa63_row17_col4\" class=\"data row17 col4\" >13086.964800</td>\n",
       "    </tr>\n",
       "  </tbody>\n",
       "</table>\n"
      ],
      "text/plain": [
       "<pandas.io.formats.style.Styler at 0x236e107e910>"
      ]
     },
     "execution_count": 7,
     "metadata": {},
     "output_type": "execute_result"
    }
   ],
   "source": [
    "df.describe(percentiles=[0.01,0.02,.03,.04,.05,.25,.50,.90,.95,.96,.97,.98,.99]).style.background_gradient()"
   ]
  },
  {
   "cell_type": "markdown",
   "id": "15ddc617-d1ea-4bc5-9d9f-72f1ce35f28a",
   "metadata": {
    "id": "15ddc617-d1ea-4bc5-9d9f-72f1ce35f28a"
   },
   "source": [
    "### Showing count plot of Items that contain fats type :-"
   ]
  },
  {
   "cell_type": "code",
   "execution_count": 8,
   "id": "67692bc2-7e3d-446c-a53b-ff3edcbde43b",
   "metadata": {
    "id": "67692bc2-7e3d-446c-a53b-ff3edcbde43b",
    "outputId": "cb1a50de-a9c1-403a-ad27-b2f07e1fb877"
   },
   "outputs": [
    {
     "data": {
      "text/plain": [
       "<Axes: xlabel='Item_Fat_Content', ylabel='count'>"
      ]
     },
     "execution_count": 8,
     "metadata": {},
     "output_type": "execute_result"
    },
    {
     "data": {
      "image/png": "[encoded data removed]",
      "text/plain": [
       "<Figure size 640x480 with 1 Axes>"
      ]
     },
     "metadata": {},
     "output_type": "display_data"
    }
   ],
   "source": [
    "sns.countplot(data=df,x='Item_Fat_Content',palette=\"rainbow\")"
   ]
  },
  {
   "cell_type": "markdown",
   "id": "8f9e3990-3109-4885-b3fb-e37aaad5becf",
   "metadata": {
    "id": "8f9e3990-3109-4885-b3fb-e37aaad5becf"
   },
   "source": [
    "### Violin plot between 'Item_Fat_Content' and 'Item_Outlet_Sales'.\n",
    "By examining the violin plot, one can gain insights into the distribution of sales amounts for different categories of fat content items, such as the range of sales, the central tendency of sales, and the presence of any outliers. This can help in understanding the relationship between the fat content of items and their sales performance in the outlet."
   ]
  },
  {
   "cell_type": "code",
   "execution_count": 9,
   "id": "8a3442ce",
   "metadata": {
    "jupyter": {
     "outputs_hidden": true
    }
   },
   "outputs": [
    {
     "name": "stderr",
     "output_type": "stream",
     "text": [
      "No artists with labels found to put in legend.  Note that artists whose label start with an underscore are ignored when legend() is called with no argument.\n"
     ]
    },
    {
     "data": {
      "image/png": "[encoded data removed]",
      "text/plain": [
       "<Figure size 640x480 with 1 Axes>"
      ]
     },
     "metadata": {},
     "output_type": "display_data"
    }
   ],
   "source": [
    "u.violin_plot(df, x='Item_Fat_Content',y='Item_Outlet_Sales')"
   ]
  },
  {
   "cell_type": "markdown",
   "id": "051efc20-2839-4090-b99c-b83b69097b97",
   "metadata": {
    "id": "051efc20-2839-4090-b99c-b83b69097b97"
   },
   "source": [
    "### Bar plot between 'Item_Fat_Content' and 'Item_Visibility'\n",
    "By examining the bar plot, one can easily compare the Item_Visibility values across different categories of Item_Fat_Content and identify any differences or trends. This can provide insights into how the fat content of items may affect their visibility or display in a store, which can be useful for understanding consumer behavior and making business decisions."
   ]
  },
  {
   "cell_type": "code",
   "execution_count": 10,
   "id": "1ea6f294-09a5-455f-a532-bd14a0a39a4d",
   "metadata": {
    "collapsed": true,
    "id": "1ea6f294-09a5-455f-a532-bd14a0a39a4d",
    "jupyter": {
     "outputs_hidden": true
    },
    "outputId": "36a792a7-9e24-40f3-e538-13e8fb61dba2"
   },
   "outputs": [
    {
     "ename": "AttributeError",
     "evalue": "module 'usefull_function' has no attribute 'barplot_plot'",
     "output_type": "error",
     "traceback": [
      "\u001b[1;31m---------------------------------------------------------------------------\u001b[0m",
      "\u001b[1;31mAttributeError\u001b[0m                            Traceback (most recent call last)",
      "Cell \u001b[1;32mIn[10], line 1\u001b[0m\n\u001b[1;32m----> 1\u001b[0m u\u001b[38;5;241m.\u001b[39mbarplot_plot(df,x\u001b[38;5;241m=\u001b[39m\u001b[38;5;124m'\u001b[39m\u001b[38;5;124mItem_Fat_Content\u001b[39m\u001b[38;5;124m'\u001b[39m,y\u001b[38;5;241m=\u001b[39m\u001b[38;5;124m'\u001b[39m\u001b[38;5;124mItem_Visibility\u001b[39m\u001b[38;5;124m'\u001b[39m)\n",
      "\u001b[1;31mAttributeError\u001b[0m: module 'usefull_function' has no attribute 'barplot_plot'"
     ]
    }
   ],
   "source": [
    "u.barplot_plot(df,x='Item_Fat_Content',y='Item_Visibility')"
   ]
  },
  {
   "cell_type": "markdown",
   "id": "f2a68a41-2d97-4d23-b805-92605b81f5b0",
   "metadata": {
    "id": "f2a68a41-2d97-4d23-b805-92605b81f5b0"
   },
   "source": [
    "# Pie plot \n",
    "By examining the pie plot, one can easily understand the distribution of items across different categories in terms of proportions or percentages. This can provide insights into the popularity or sales performance of different types of items in the store, which can be useful for product management, inventory planning, and marketing strategies."
   ]
  },
  {
   "cell_type": "code",
   "execution_count": 11,
   "id": "2464aaa6",
   "metadata": {
    "collapsed": true
   },
   "outputs": [
    {
     "data": {
      "image/png": "[encoded data removed]",
      "text/plain": [
       "<Figure size 640x480 with 1 Axes>"
      ]
     },
     "metadata": {},
     "output_type": "display_data"
    }
   ],
   "source": [
    "u.create_piechart(data=df, column=\"Item_Type\" )"
   ]
  },
  {
   "cell_type": "code",
   "execution_count": null,
   "id": "600a265f",
   "metadata": {},
   "outputs": [],
   "source": [
    "u.count_plot(df=df,x='Outlet_Identifier')"
   ]
  },
  {
   "cell_type": "markdown",
   "id": "a802b9e0-b633-4f1d-9bba-3299f7553cfe",
   "metadata": {
    "id": "a802b9e0-b633-4f1d-9bba-3299f7553cfe"
   },
   "source": [
    "# Scatterplot between Outlet_identifier and item type\n",
    "The scatterplot can help visualize the distribution and relationship between these variables. For example, it can show how different types of items (Item_Type) are distributed across different outlets (Outlet_Identifier) based on their size (Outlet_Size). It can also identify any patterns or trends in the data, such as the concentration of certain types of items in specific outlets or the relationship between item types and outlet sizes. This can provide insights into the distribution and characteristics of items and outlets, which can be useful for business analysis and decision-making."
   ]
  },
  {
   "cell_type": "code",
   "execution_count": null,
   "id": "42c38a8f-e2a6-4ec3-990e-7899f8e21390",
   "metadata": {
    "id": "42c38a8f-e2a6-4ec3-990e-7899f8e21390",
    "outputId": "60186d98-c6d6-4347-ada6-945b17126bb9"
   },
   "outputs": [],
   "source": [
    "plt.figure(figsize=(10,8),dpi=200)\n",
    "sns.scatterplot(data=df,y='Outlet_Identifier',x='Item_Type',hue='Outlet_Size')\n",
    "plt.xticks(rotation=70)\n",
    "plt.legend()\n",
    "plt.show()"
   ]
  },
  {
   "cell_type": "code",
   "execution_count": null,
   "id": "58c1c6e8-1a57-4466-ab2e-a0e6f4eb201b",
   "metadata": {
    "id": "58c1c6e8-1a57-4466-ab2e-a0e6f4eb201b",
    "outputId": "6566802e-aebc-4416-ab0c-18014e7894c3"
   },
   "outputs": [],
   "source": [
    "df.columns"
   ]
  },
  {
   "cell_type": "markdown",
   "id": "7ece7fa6-7e38-4af5-a606-687656832076",
   "metadata": {
    "id": "7ece7fa6-7e38-4af5-a606-687656832076"
   },
   "source": [
    "The scatterplot can help visualize the distribution and relationship between these variables. For example, it can show how different types of items (Item_Type) are distributed across different outlets (Outlet_Identifier) based on their size (Outlet_Size). It can also identify any patterns or trends in the data, such as the concentration of certain types of items in specific outlets or the relationship between item types and outlet sizes. This can provide insights into the distribution and characteristics of items and outlets, which can be useful for business analysis and decision-making."
   ]
  },
  {
   "cell_type": "code",
   "execution_count": null,
   "id": "cf77cbfc-ca24-4bc7-9329-148048fd10cc",
   "metadata": {
    "id": "cf77cbfc-ca24-4bc7-9329-148048fd10cc",
    "outputId": "d238d4d2-b93b-47f7-b8cd-48034a9df465"
   },
   "outputs": [],
   "source": [
    "plt.figure(figsize=(10,8),dpi=200)\n",
    "sns.scatterplot(data=df,x='Item_MRP',y='Item_Outlet_Sales',hue='Outlet_Size')\n",
    "plt.legend()\n",
    "plt.show()"
   ]
  },
  {
   "cell_type": "markdown",
   "id": "2fc274e9-5007-4d46-843f-5a4c05498614",
   "metadata": {
    "id": "2fc274e9-5007-4d46-843f-5a4c05498614"
   },
   "source": [
    "## Missing value Treatment"
   ]
  },
  {
   "cell_type": "code",
   "execution_count": 12,
   "id": "66033c8a",
   "metadata": {},
   "outputs": [],
   "source": [
    "\n",
    "\n",
    "def univariate_cat(data, x):\n",
    "    missing = data[x].isnull().sum()\n",
    "    unique_cnt = data[x].nunique()\n",
    "    unique_cat = list(data[x].unique())\n",
    "    f1 = pd.DataFrame(data[x].value_counts())\n",
    "    f1.rename(columns={x: \"Count\"}, inplace=True)\n",
    "    f2 = pd.DataFrame(data[x].value_counts(normalize=True))\n",
    "    f2.columns = ['percentage']  # Set the column name for percentage\n",
    "    f2[\"percentage\"] = (f2[\"percentage\"] * 100).round(2).astype(str) + \"%\"\n",
    "    ff = pd.concat([f1, f2], axis=1)\n",
    "    print(f\"Total missing values : {missing}\\n\")\n",
    "    print(f\"Total count of unique categories: {unique_cnt}\\n\")\n",
    "    print(f\"Unique categories :\\n{unique_cat}\")\n",
    "    print(\"Value count and %\\n\", ff)\n",
    "    sns.countplot(data=data, x=x)\n",
    "    plt.xticks(rotation=90)\n",
    "    plt.show()\n"
   ]
  },
  {
   "cell_type": "code",
   "execution_count": 13,
   "id": "86d791e0-8b6c-494a-ad30-9c82bccfa232",
   "metadata": {
    "id": "86d791e0-8b6c-494a-ad30-9c82bccfa232",
    "jupyter": {
     "outputs_hidden": true
    },
    "outputId": "4bf8871b-ea32-4076-93f8-333d9ffa7522"
   },
   "outputs": [
    {
     "name": "stdout",
     "output_type": "stream",
     "text": [
      "Total missing values : 2410\n",
      "\n",
      "Total count of unique categories: 3\n",
      "\n",
      "Unique categories :\n",
      "['Medium', nan, 'High', 'Small']\n",
      "Value count and %\n",
      "              count percentage\n",
      "Outlet_Size                  \n",
      "Medium        2793     45.69%\n",
      "Small         2388     39.06%\n",
      "High           932     15.25%\n"
     ]
    },
    {
     "data": {
      "image/png": "[encoded data removed]",
      "text/plain": [
       "<Figure size 640x480 with 1 Axes>"
      ]
     },
     "metadata": {},
     "output_type": "display_data"
    }
   ],
   "source": [
    "univariate_cat(df,x='Outlet_Size')"
   ]
  },
  {
   "cell_type": "code",
   "execution_count": null,
   "id": "b9b79c41-c9e1-449b-ab77-6b7be1e9b6f9",
   "metadata": {
    "id": "b9b79c41-c9e1-449b-ab77-6b7be1e9b6f9",
    "outputId": "baf51949-2c13-4efc-da63-8fa092789523"
   },
   "outputs": [],
   "source": [
    "df['Outlet_Size'].value_counts()"
   ]
  },
  {
   "cell_type": "markdown",
   "id": "0cc1bac9-cc58-401d-81de-1bcb47d025b3",
   "metadata": {
    "id": "0cc1bac9-cc58-401d-81de-1bcb47d025b3"
   },
   "source": [
    "In the given situation where \"NaN\" (Not a Number) values are encountered in a list of unique categories, such as \"Medium\", \"High\", \"Small\", and their corresponding value counts and percentages, there are several options to consider for replacing the \"NaN\" values:\n",
    "\n",
    "Replace with the mode: We can replace the \"NaN\" values with the mode, which is the category that appears most frequently in the dataset. In this case, we would replace the \"NaN\" values with the category \"Medium\", as it has the highest count (2793) and percentage (45.69%) among the available categories."
   ]
  },
  {
   "cell_type": "code",
   "execution_count": 16,
   "id": "ae86e740-f6bf-4f6b-8e77-af1b330cf4b5",
   "metadata": {
    "id": "ae86e740-f6bf-4f6b-8e77-af1b330cf4b5"
   },
   "outputs": [],
   "source": [
    "df['Outlet_Size'].fillna('Medium',inplace=True)"
   ]
  },
  {
   "cell_type": "code",
   "execution_count": 17,
   "id": "0ecc0d6f-e7aa-4065-a16c-6275fb4d8136",
   "metadata": {
    "id": "0ecc0d6f-e7aa-4065-a16c-6275fb4d8136",
    "outputId": "7a758059-c48b-46fb-9f08-b18557331b83"
   },
   "outputs": [
    {
     "data": {
      "text/plain": [
       "Item_Identifier                 0\n",
       "Item_Weight                  1463\n",
       "Item_Fat_Content                0\n",
       "Item_Visibility                 0\n",
       "Item_Type                       0\n",
       "Item_MRP                        0\n",
       "Outlet_Identifier               0\n",
       "Outlet_Establishment_Year       0\n",
       "Outlet_Size                     0\n",
       "Outlet_Location_Type            0\n",
       "Outlet_Type                     0\n",
       "Item_Outlet_Sales               0\n",
       "dtype: int64"
      ]
     },
     "execution_count": 17,
     "metadata": {},
     "output_type": "execute_result"
    }
   ],
   "source": [
    "df.isnull().sum()"
   ]
  },
  {
   "cell_type": "code",
   "execution_count": 14,
   "id": "35d30c19-0ddb-4c46-bb77-e4fcc1cdcac7",
   "metadata": {
    "id": "35d30c19-0ddb-4c46-bb77-e4fcc1cdcac7"
   },
   "outputs": [],
   "source": [
    "def univariate_num(data,x):\n",
    "    missing=data[x].isnull().sum()\n",
    "    min1=round(data[x].min(), 2)\n",
    "    max1=round(data[x].max(), 2)\n",
    "    mean=round(data[x].mean(), 2)\n",
    "    var=round(data[x].var(), 2)\n",
    "    std=round(data[x].std(),2)\n",
    "    range1=round(max1-min1, 2)\n",
    "    q1=round(data[x].quantile(.25), 2)\n",
    "    q2=round(data[x].quantile(.5),2)\n",
    "    q3=round(data[x].quantile(.75), 2)\n",
    "    skew=round(data[x].skew(), 2)\n",
    "    kurt=round(data[x].kurt(), 2)\n",
    "    myvalue={\"missing\":missing, \"min\":min1, \"max\":max1, \"mean\":mean,\n",
    "             \"var\":var,\"std\":std, \"range\":range1,\"q1\":q1, \"q2\":q2,\"q3\":q3,\n",
    "            \"skewness\":skew, \"kurtosis\":kurt}\n",
    "    sns.histplot(data[x])\n",
    "    plt.show()\n",
    "    sns.boxplot(data=data, y=data[x])\n",
    "    plt.show()\n",
    "    return myvalue"
   ]
  },
  {
   "cell_type": "code",
   "execution_count": 15,
   "id": "eb0b0003-5cc1-4b83-8594-642c69765eaa",
   "metadata": {
    "collapsed": true,
    "id": "eb0b0003-5cc1-4b83-8594-642c69765eaa",
    "jupyter": {
     "outputs_hidden": true
    },
    "outputId": "dbb6170d-bc94-492b-8264-e78079ccbceb"
   },
   "outputs": [
    {
     "data": {
      "image/png": "[encoded data removed]",
      "text/plain": [
       "<Figure size 640x480 with 1 Axes>"
      ]
     },
     "metadata": {},
     "output_type": "display_data"
    },
    {
     "data": {
      "image/png": "[encoded data removed]",
      "text/plain": [
       "<Figure size 640x480 with 1 Axes>"
      ]
     },
     "metadata": {},
     "output_type": "display_data"
    },
    {
     "data": {
      "text/plain": [
       "{'missing': 1463,\n",
       " 'min': 4.55,\n",
       " 'max': 21.35,\n",
       " 'mean': 12.86,\n",
       " 'var': 21.56,\n",
       " 'std': 4.64,\n",
       " 'range': 16.8,\n",
       " 'q1': 8.77,\n",
       " 'q2': 12.6,\n",
       " 'q3': 16.85,\n",
       " 'skewness': 0.08,\n",
       " 'kurtosis': -1.23}"
      ]
     },
     "execution_count": 15,
     "metadata": {},
     "output_type": "execute_result"
    }
   ],
   "source": [
    "univariate_num(data=df,x='Item_Weight')\n"
   ]
  },
  {
   "cell_type": "code",
   "execution_count": null,
   "id": "202b219e",
   "metadata": {},
   "outputs": [],
   "source": [
    "df['Item_Weight'].value_counts()"
   ]
  },
  {
   "cell_type": "code",
   "execution_count": 19,
   "id": "503443ad-e21b-4ffa-b163-e7c539eae1ef",
   "metadata": {
    "id": "503443ad-e21b-4ffa-b163-e7c539eae1ef",
    "outputId": "97ee8659-4350-471f-ff92-0c9d4c1e4ee8"
   },
   "outputs": [
    {
     "data": {
      "text/plain": [
       "12.15"
      ]
     },
     "execution_count": 19,
     "metadata": {},
     "output_type": "execute_result"
    }
   ],
   "source": [
    "mode=df['Item_Weight'].mode()[0]\n",
    "mode"
   ]
  },
  {
   "cell_type": "markdown",
   "id": "67b2267d-3156-4d6b-81a1-1681ab5e2590",
   "metadata": {
    "id": "67b2267d-3156-4d6b-81a1-1681ab5e2590"
   },
   "source": [
    "In the given situation where a dictionary contains statistical summary values, and one of the values is \"NaN\" (Not a Number), you may consider the following options for replacing the \"NaN\" value:\n",
    "\n",
    "Use data imputation techniques: Depending on the nature and characteristics of your data, you may consider using data imputation techniques, such as mean imputation, median imputation, or regression imputation, to estimate and fill in the missing value based on the values of other variables or statistical properties of the data. For example, you could impute the missing value with the mean, median, or mode of the available data."
   ]
  },
  {
   "cell_type": "code",
   "execution_count": 20,
   "id": "4e60af06-8f64-43cb-a0aa-40c7294e2f1c",
   "metadata": {
    "id": "4e60af06-8f64-43cb-a0aa-40c7294e2f1c"
   },
   "outputs": [],
   "source": [
    "df['Item_Weight'].fillna(mode,inplace=True)\n",
    "df['Outlet_Size'].fillna('Medium',inplace=True)\n"
   ]
  },
  {
   "cell_type": "code",
   "execution_count": 21,
   "id": "e258edcd-aa75-4a31-b8a5-cc0373e8df75",
   "metadata": {
    "collapsed": true,
    "id": "e258edcd-aa75-4a31-b8a5-cc0373e8df75",
    "outputId": "4c2800fb-2fa8-4fc2-ca75-524e47b1545a"
   },
   "outputs": [
    {
     "data": {
      "text/plain": [
       "Item_Identifier              0\n",
       "Item_Weight                  0\n",
       "Item_Fat_Content             0\n",
       "Item_Visibility              0\n",
       "Item_Type                    0\n",
       "Item_MRP                     0\n",
       "Outlet_Identifier            0\n",
       "Outlet_Establishment_Year    0\n",
       "Outlet_Size                  0\n",
       "Outlet_Location_Type         0\n",
       "Outlet_Type                  0\n",
       "Item_Outlet_Sales            0\n",
       "dtype: int64"
      ]
     },
     "execution_count": 21,
     "metadata": {},
     "output_type": "execute_result"
    }
   ],
   "source": [
    "df.isnull().sum()"
   ]
  },
  {
   "cell_type": "markdown",
   "id": "b7e4742f-8aa5-4aaf-a209-a0c8ea5f9bc8",
   "metadata": {
    "id": "b7e4742f-8aa5-4aaf-a209-a0c8ea5f9bc8"
   },
   "source": [
    "# Univariate outlier Treatment"
   ]
  },
  {
   "cell_type": "code",
   "execution_count": null,
   "id": "03430739-39af-4f84-970a-a41017fd04f8",
   "metadata": {
    "id": "03430739-39af-4f84-970a-a41017fd04f8",
    "outputId": "41813bc0-c2a6-4293-ddc3-7d7fb4378eb6"
   },
   "outputs": [],
   "source": [
    "univariate_cat(data=df,x='Item_Fat_Content') "
   ]
  },
  {
   "cell_type": "code",
   "execution_count": null,
   "id": "649d7823-b137-4835-82a5-b7502d6431b0",
   "metadata": {
    "id": "649d7823-b137-4835-82a5-b7502d6431b0",
    "outputId": "82d43d4e-5f07-4ad7-88de-29bc54e9252c"
   },
   "outputs": [],
   "source": [
    "univariate_num(data=df,x='Item_Visibility') "
   ]
  },
  {
   "cell_type": "markdown",
   "id": "50dd4b27-72fd-4677-b46b-f40e57a4b042",
   "metadata": {
    "id": "50dd4b27-72fd-4677-b46b-f40e57a4b042"
   },
   "source": [
    "We do not have any have any parametere to identify its outliers in others words visibility can be in any value of digits."
   ]
  },
  {
   "cell_type": "code",
   "execution_count": null,
   "id": "ae9f02e6-7c01-4a96-8232-7a27bb44aa21",
   "metadata": {
    "id": "ae9f02e6-7c01-4a96-8232-7a27bb44aa21",
    "outputId": "a9f6b7f9-1e47-467e-f055-05804af2c561"
   },
   "outputs": [],
   "source": [
    "univariate_num(data=df,x='Item_Outlet_Sales') "
   ]
  },
  {
   "cell_type": "markdown",
   "id": "1562e5c1-e2d1-42b3-82b4-1ee0cbfe33df",
   "metadata": {
    "id": "1562e5c1-e2d1-42b3-82b4-1ee0cbfe33df"
   },
   "source": [
    "It's important to note that the absence of outliers in a dataset does not necessarily mean that the data is error-free or that outliers do not exist in the underlying data. It's always crucial to carefully understand and analyze the data context, quality, and distribution characteristics to make informed conclusions about the presence or absence of outliers in a dataset."
   ]
  },
  {
   "cell_type": "markdown",
   "id": "da5a2803-4caa-42ce-b947-043fa78a3a69",
   "metadata": {
    "id": "da5a2803-4caa-42ce-b947-043fa78a3a69"
   },
   "source": [
    "# Preparing for model Asigning"
   ]
  },
  {
   "cell_type": "code",
   "execution_count": null,
   "id": "fde14c38-64c7-41d1-94a4-c3481ad1df8a",
   "metadata": {
    "id": "fde14c38-64c7-41d1-94a4-c3481ad1df8a",
    "outputId": "25bed437-bc3e-4885-f8c2-20284c29f595"
   },
   "outputs": [],
   "source": [
    "df.describe(percentiles=[0.01,0.02,.03,.04,.05,.25,.50,.90,.95,.96,.97,.98,.99]).style.background_gradient(cmap='Reds')"
   ]
  },
  {
   "cell_type": "code",
   "execution_count": null,
   "id": "15ed46f0",
   "metadata": {
    "jupyter": {
     "outputs_hidden": true
    }
   },
   "outputs": [],
   "source": [
    "for i in df.columns:\n",
    "    print(\"------------- {} ------------------\".format(i))\n",
    "    print(df[i].value_counts())\n",
    "    print()"
   ]
  },
  {
   "cell_type": "code",
   "execution_count": null,
   "id": "2af044f0-83f7-43e7-93de-ea44e91aa918",
   "metadata": {
    "id": "2af044f0-83f7-43e7-93de-ea44e91aa918",
    "outputId": "61e51697-f2ef-4882-fb3e-e9f9dced0bc0"
   },
   "outputs": [],
   "source": [
    "# plt.figure(figsize=(15,14))\n",
    "# cr=df.corr()\n",
    "# sns.heatmap(cr,cmap='coolwarm',annot=True)\n",
    "# plt.show()"
   ]
  },
  {
   "cell_type": "markdown",
   "id": "948cf91b-0e7d-4301-9ab6-5caeec20ea0b",
   "metadata": {
    "id": "948cf91b-0e7d-4301-9ab6-5caeec20ea0b"
   },
   "source": [
    "The correlation matrix for the Bigmart dataset would typically be a square matrix where the rows and columns represent the variables in the dataset, and the cells contain the correlation coefficients. The correlation coefficient is a value that ranges from -1 to 1, with 1 indicating a perfect positive linear relationship, -1 indicating a perfect negative linear relationship, and 0 indicating no linear relationship between the variables."
   ]
  },
  {
   "cell_type": "code",
   "execution_count": null,
   "id": "f09252a3-6401-4967-ab5b-b21fb1e16d00",
   "metadata": {
    "id": "f09252a3-6401-4967-ab5b-b21fb1e16d00",
    "outputId": "ed87e6e7-915d-44c7-c1c6-5042070eda49"
   },
   "outputs": [],
   "source": [
    "df.head()"
   ]
  },
  {
   "cell_type": "code",
   "execution_count": 22,
   "id": "0453bff6-3f3e-410b-a106-bc19e7480ff6",
   "metadata": {
    "id": "0453bff6-3f3e-410b-a106-bc19e7480ff6"
   },
   "outputs": [],
   "source": [
    "df.drop(columns=['Item_Identifier', 'Outlet_Identifier'],inplace=True)"
   ]
  },
  {
   "cell_type": "code",
   "execution_count": 23,
   "id": "d768e9b3",
   "metadata": {
    "collapsed": true
   },
   "outputs": [
    {
     "data": {
      "text/html": [
       "<div>\n",
       "<style scoped>\n",
       "    .dataframe tbody tr th:only-of-type {\n",
       "        vertical-align: middle;\n",
       "    }\n",
       "\n",
       "    .dataframe tbody tr th {\n",
       "        vertical-align: top;\n",
       "    }\n",
       "\n",
       "    .dataframe thead th {\n",
       "        text-align: right;\n",
       "    }\n",
       "</style>\n",
       "<table border=\"1\" class=\"dataframe\">\n",
       "  <thead>\n",
       "    <tr style=\"text-align: right;\">\n",
       "      <th></th>\n",
       "      <th>Item_Weight</th>\n",
       "      <th>Item_Fat_Content</th>\n",
       "      <th>Item_Visibility</th>\n",
       "      <th>Item_Type</th>\n",
       "      <th>Item_MRP</th>\n",
       "      <th>Outlet_Establishment_Year</th>\n",
       "      <th>Outlet_Size</th>\n",
       "      <th>Outlet_Location_Type</th>\n",
       "      <th>Outlet_Type</th>\n",
       "      <th>Item_Outlet_Sales</th>\n",
       "    </tr>\n",
       "  </thead>\n",
       "  <tbody>\n",
       "    <tr>\n",
       "      <th>0</th>\n",
       "      <td>9.30</td>\n",
       "      <td>Low Fat</td>\n",
       "      <td>0.016047</td>\n",
       "      <td>Dairy</td>\n",
       "      <td>249.8092</td>\n",
       "      <td>1999</td>\n",
       "      <td>Medium</td>\n",
       "      <td>Tier 1</td>\n",
       "      <td>Supermarket Type1</td>\n",
       "      <td>3735.1380</td>\n",
       "    </tr>\n",
       "    <tr>\n",
       "      <th>1</th>\n",
       "      <td>5.92</td>\n",
       "      <td>Regular</td>\n",
       "      <td>0.019278</td>\n",
       "      <td>Soft Drinks</td>\n",
       "      <td>48.2692</td>\n",
       "      <td>2009</td>\n",
       "      <td>Medium</td>\n",
       "      <td>Tier 3</td>\n",
       "      <td>Supermarket Type2</td>\n",
       "      <td>443.4228</td>\n",
       "    </tr>\n",
       "    <tr>\n",
       "      <th>2</th>\n",
       "      <td>17.50</td>\n",
       "      <td>Low Fat</td>\n",
       "      <td>0.016760</td>\n",
       "      <td>Meat</td>\n",
       "      <td>141.6180</td>\n",
       "      <td>1999</td>\n",
       "      <td>Medium</td>\n",
       "      <td>Tier 1</td>\n",
       "      <td>Supermarket Type1</td>\n",
       "      <td>2097.2700</td>\n",
       "    </tr>\n",
       "    <tr>\n",
       "      <th>3</th>\n",
       "      <td>19.20</td>\n",
       "      <td>Regular</td>\n",
       "      <td>0.000000</td>\n",
       "      <td>Fruits and Vegetables</td>\n",
       "      <td>182.0950</td>\n",
       "      <td>1998</td>\n",
       "      <td>Medium</td>\n",
       "      <td>Tier 3</td>\n",
       "      <td>Grocery Store</td>\n",
       "      <td>732.3800</td>\n",
       "    </tr>\n",
       "    <tr>\n",
       "      <th>4</th>\n",
       "      <td>8.93</td>\n",
       "      <td>Low Fat</td>\n",
       "      <td>0.000000</td>\n",
       "      <td>Household</td>\n",
       "      <td>53.8614</td>\n",
       "      <td>1987</td>\n",
       "      <td>High</td>\n",
       "      <td>Tier 3</td>\n",
       "      <td>Supermarket Type1</td>\n",
       "      <td>994.7052</td>\n",
       "    </tr>\n",
       "  </tbody>\n",
       "</table>\n",
       "</div>"
      ],
      "text/plain": [
       "   Item_Weight Item_Fat_Content  Item_Visibility              Item_Type  \\\n",
       "0         9.30          Low Fat         0.016047                  Dairy   \n",
       "1         5.92          Regular         0.019278            Soft Drinks   \n",
       "2        17.50          Low Fat         0.016760                   Meat   \n",
       "3        19.20          Regular         0.000000  Fruits and Vegetables   \n",
       "4         8.93          Low Fat         0.000000              Household   \n",
       "\n",
       "   Item_MRP  Outlet_Establishment_Year Outlet_Size Outlet_Location_Type  \\\n",
       "0  249.8092                       1999      Medium               Tier 1   \n",
       "1   48.2692                       2009      Medium               Tier 3   \n",
       "2  141.6180                       1999      Medium               Tier 1   \n",
       "3  182.0950                       1998      Medium               Tier 3   \n",
       "4   53.8614                       1987        High               Tier 3   \n",
       "\n",
       "         Outlet_Type  Item_Outlet_Sales  \n",
       "0  Supermarket Type1          3735.1380  \n",
       "1  Supermarket Type2           443.4228  \n",
       "2  Supermarket Type1          2097.2700  \n",
       "3      Grocery Store           732.3800  \n",
       "4  Supermarket Type1           994.7052  "
      ]
     },
     "execution_count": 23,
     "metadata": {},
     "output_type": "execute_result"
    }
   ],
   "source": [
    "df.head()"
   ]
  },
  {
   "cell_type": "code",
   "execution_count": null,
   "id": "8d8f2d48",
   "metadata": {},
   "outputs": [],
   "source": []
  },
  {
   "cell_type": "code",
   "execution_count": null,
   "id": "944a7e7e",
   "metadata": {},
   "outputs": [],
   "source": []
  },
  {
   "cell_type": "markdown",
   "id": "b75b068b-394a-4d24-8822-fe6514a23490",
   "metadata": {
    "id": "b75b068b-394a-4d24-8822-fe6514a23490",
    "tags": []
   },
   "source": [
    "# Modeling with ML algorithums."
   ]
  },
  {
   "cell_type": "code",
   "execution_count": 24,
   "id": "f5d6d028",
   "metadata": {},
   "outputs": [],
   "source": [
    "def preprocessing(df, label=None): \n",
    "    df=pd.get_dummies(df)\n",
    "    \n",
    "    y=df[label]\n",
    "    X=df.drop(columns=[label])\n",
    "    \n",
    "    X_train,X_test,y_train,y_test=train_test_split(X,y,test_size=0.25,random_state=100)\n",
    "    \n",
    "    print(\"X Train shape : {}\".format(X_train.shape))\n",
    "    print(\"X Test shape : {}\".format(X_test.shape))\n",
    "    \n",
    "    sc = StandardScaler()\n",
    "    X_train_scale =sc.fit_transform(X_train)\n",
    "    X_test_scale =sc.transform(X_test)\n",
    "    \n",
    "    return X_train_scale, X_test_scale, y_train, y_test\n",
    "\n",
    "def built_model(X_train, X_test, y_train, y_test, model):\n",
    "    \n",
    "    model.fit(X_train, y_train)\n",
    "    y_pred=model.predict(X_test)\n",
    "    r2 = r2_score(y_test,  y_pred)\n",
    "    mse = mean_squared_error(y_test, y_pred)\n",
    "    rmse = np.sqrt(mse)\n",
    "    mae = mean_absolute_error(y_test, y_pred)\n",
    "\n",
    "    # Print the accuracy metrics\n",
    "    print(\"R2 Score:\", r2)\n",
    "    print(\"Root Mean Squared Error (RMSE):\", rmse)\n",
    "    print(\"Mean Absolute Error (MAE):\", mae)     "
   ]
  },
  {
   "cell_type": "code",
   "execution_count": 25,
   "id": "3869520a",
   "metadata": {
    "collapsed": true
   },
   "outputs": [
    {
     "name": "stdout",
     "output_type": "stream",
     "text": [
      "X Train shape : (6392, 35)\n",
      "X Test shape : (2131, 35)\n"
     ]
    }
   ],
   "source": [
    "X_train_scale, X_test_scale, y_train, y_test =  preprocessing(df, label=\"Item_Outlet_Sales\")"
   ]
  },
  {
   "cell_type": "code",
   "execution_count": 26,
   "id": "1ab1c83a",
   "metadata": {
    "collapsed": true
   },
   "outputs": [
    {
     "name": "stdout",
     "output_type": "stream",
     "text": [
      "R2 Score: 0.5489381250794834\n",
      "Root Mean Squared Error (RMSE): 1137.1529819578361\n",
      "Mean Absolute Error (MAE): 850.1067930153444\n"
     ]
    }
   ],
   "source": [
    "lr=LinearRegression(n_jobs=-1)\n",
    "built_model(X_train_scale, X_test_scale, y_train, y_test, lr)"
   ]
  },
  {
   "cell_type": "code",
   "execution_count": 27,
   "id": "1d1a3ac7-5242-4957-84bd-7a13cb96ba6c",
   "metadata": {
    "collapsed": true,
    "id": "1d1a3ac7-5242-4957-84bd-7a13cb96ba6c"
   },
   "outputs": [
    {
     "name": "stdout",
     "output_type": "stream",
     "text": [
      "R2 Score: 0.5517039678489615\n",
      "Root Mean Squared Error (RMSE): 1133.6611964421536\n",
      "Mean Absolute Error (MAE): 804.2804512285312\n"
     ]
    }
   ],
   "source": [
    "rf=RandomForestRegressor(n_jobs=-1)\n",
    "built_model(X_train_scale, X_test_scale, y_train, y_test, rf)\n",
    "    "
   ]
  },
  {
   "cell_type": "code",
   "execution_count": 29,
   "id": "911e1c37",
   "metadata": {
    "collapsed": true
   },
   "outputs": [
    {
     "name": "stdout",
     "output_type": "stream",
     "text": [
      "R2 Score: 0.19941043432103178\n",
      "Root Mean Squared Error (RMSE): 1514.9761536124329\n",
      "Mean Absolute Error (MAE): 1068.716477803848\n"
     ]
    }
   ],
   "source": [
    "from sklearn.tree import DecisionTreeRegressor\n",
    "dt = DecisionTreeRegressor()\n",
    "built_model(X_train_scale, X_test_scale, y_train, y_test, dt)\n",
    "  "
   ]
  },
  {
   "cell_type": "code",
   "execution_count": null,
   "id": "c9dc9de3",
   "metadata": {},
   "outputs": [],
   "source": []
  },
  {
   "cell_type": "code",
   "execution_count": null,
   "id": "537d4f7c",
   "metadata": {},
   "outputs": [],
   "source": []
  },
  {
   "cell_type": "code",
   "execution_count": null,
   "id": "f590a9fa",
   "metadata": {},
   "outputs": [],
   "source": []
  },
  {
   "cell_type": "markdown",
   "id": "fda81e15-3f74-46a5-a25d-b7afcec5569c",
   "metadata": {
    "id": "fda81e15-3f74-46a5-a25d-b7afcec5569c"
   },
   "source": [
    "# Assigning Linear Regression Model"
   ]
  },
  {
   "cell_type": "code",
   "execution_count": null,
   "id": "e3d083a6-f9e7-4a62-82ff-37bb8259fc67",
   "metadata": {
    "id": "e3d083a6-f9e7-4a62-82ff-37bb8259fc67"
   },
   "outputs": [],
   "source": [
    "\n"
   ]
  },
  {
   "cell_type": "code",
   "execution_count": null,
   "id": "322cd80b-0ebe-4352-a009-e0e5ecc05fbe",
   "metadata": {
    "id": "322cd80b-0ebe-4352-a009-e0e5ecc05fbe"
   },
   "outputs": [],
   "source": [
    "\n"
   ]
  },
  {
   "cell_type": "code",
   "execution_count": null,
   "id": "9f14e3b3-75f8-4b08-bcd9-18d9980ab404",
   "metadata": {
    "id": "9f14e3b3-75f8-4b08-bcd9-18d9980ab404",
    "outputId": "fa569b54-2e24-4f55-e99f-6510e3772332"
   },
   "outputs": [],
   "source": []
  },
  {
   "cell_type": "markdown",
   "id": "6bb7432c-4a4b-4525-a070-ffd42adc46f4",
   "metadata": {
    "id": "6bb7432c-4a4b-4525-a070-ffd42adc46f4"
   },
   "source": [
    "# Assigning Decision Tree regression Model"
   ]
  },
  {
   "cell_type": "code",
   "execution_count": null,
   "id": "c890f775-3488-494f-b76e-fa628369df45",
   "metadata": {
    "id": "c890f775-3488-494f-b76e-fa628369df45"
   },
   "outputs": [],
   "source": [
    "from sklearn.tree import DecisionTreeRegressor\n",
    "from sklearn.metrics import r2_score, mean_squared_error\n",
    "from math import sqrt"
   ]
  },
  {
   "cell_type": "code",
   "execution_count": null,
   "id": "15e09db6-e43e-4b9e-a497-562caad36403",
   "metadata": {
    "id": "15e09db6-e43e-4b9e-a497-562caad36403",
    "outputId": "1dde3f2d-05b3-41ca-c849-498d9641332d"
   },
   "outputs": [],
   "source": [
    "model = DecisionTreeRegressor(random_state=42)\n",
    "model.fit(x_train, y_train)\n",
    "\n",
    "# Make predictions\n",
    "y_pred = model.predict(x_test)\n",
    "\n",
    "# Calculate accuracy\n",
    "r2 = r2_score(y_test, y_pred)\n",
    "mse = mean_squared_error(y_test, y_pred)\n",
    "rmse = sqrt(mse)\n",
    "\n",
    "print(\"R2 Score:\", r2)\n",
    "print(\"Mean Squared Error:\", mse)\n",
    "print(\"Root Mean Squared Error:\", rmse)"
   ]
  },
  {
   "cell_type": "markdown",
   "id": "abe3aee0-f530-4c54-ad38-083d2dd016fb",
   "metadata": {
    "id": "abe3aee0-f530-4c54-ad38-083d2dd016fb"
   },
   "source": [
    "# Assigning Random Forest Regressor Model"
   ]
  },
  {
   "cell_type": "code",
   "execution_count": null,
   "id": "20eba6b3-9f13-4340-8bc8-5afcb8258923",
   "metadata": {
    "id": "20eba6b3-9f13-4340-8bc8-5afcb8258923"
   },
   "outputs": [],
   "source": [
    "\n",
    "from sklearn.metrics import r2_score, mean_squared_error\n",
    "from math import sqrt"
   ]
  },
  {
   "cell_type": "code",
   "execution_count": null,
   "id": "6d2ccd0f-6527-407e-aa60-90f0c9cd2be9",
   "metadata": {
    "id": "6d2ccd0f-6527-407e-aa60-90f0c9cd2be9",
    "outputId": "c55f8b59-cfa4-44f6-bf7d-772f946c326c"
   },
   "outputs": [],
   "source": [
    "model = RandomForestRegressor(n_estimators=100, random_state=42)\n",
    "model.fit(x_train, y_train)\n",
    "\n",
    "# Make predictions\n",
    "y_pred = model.predict(x_test)\n",
    "\n",
    "# Calculate accuracy\n",
    "r2 = r2_score(y_test, y_pred)\n",
    "mse = mean_squared_error(y_test, y_pred)\n",
    "rmse = sqrt(mse)\n",
    "\n",
    "print(\"R2 Score:\", r2)\n",
    "print(\"Mean Squared Error:\", mse)\n",
    "print(\"Root Mean Squared Error:\", rmse)"
   ]
  },
  {
   "cell_type": "code",
   "execution_count": null,
   "id": "5a422123-1ddf-43a5-814f-4e0ed87d3fd7",
   "metadata": {
    "id": "5a422123-1ddf-43a5-814f-4e0ed87d3fd7"
   },
   "outputs": [],
   "source": []
  },
  {
   "cell_type": "code",
   "execution_count": null,
   "id": "4e7afead",
   "metadata": {},
   "outputs": [],
   "source": []
  }
 ],
 "metadata": {
  "colab": {
   "provenance": []
  },
  "kernelspec": {
   "display_name": "Python 3 (ipykernel)",
   "language": "python",
   "name": "python3"
  },
  "language_info": {
   "codemirror_mode": {
    "name": "ipython",
    "version": 3
   },
   "file_extension": ".py",
   "mimetype": "text/x-python",
   "name": "python",
   "nbconvert_exporter": "python",
   "pygments_lexer": "ipython3",
   "version": "3.11.5"
  }
 },
 "nbformat": 4,
 "nbformat_minor": 5
}
